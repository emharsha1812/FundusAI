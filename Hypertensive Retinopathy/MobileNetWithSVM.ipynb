{
 "cells": [
  {
   "cell_type": "code",
   "execution_count": null,
   "id": "65bdc493",
   "metadata": {},
   "outputs": [],
   "source": [
    "from keras.layers.pooling.global_max_pooling2d import GlobalMaxPool2D\n",
    "from sklearn.svm import SVC\n",
    "\n",
    "# Your existing model definition\n",
    "def getModel(image_size, num_classes):\n",
    "    model_input = keras.Input(shape=(image_size, image_size, 3))\n",
    "    transfer = keras.applications.MobileNetV3Large(\n",
    "        weights='imagenet', include_top=False, input_tensor=model_input\n",
    "    )\n",
    "    x = transfer.get_layer(index=142).output\n",
    "    x = SpatialDropout2D(0.15)(x)\n",
    "    x = Conv2D(filters=64, kernel_size=1, activation='relu', kernel_regularizer=regularizers.L1L2(l1=1e-1))(x)\n",
    "    x = GlobalMaxPool2D()(x)\n",
    "    x = Dropout(0.15)(x)\n",
    "    model_output = Dense(1, activation='sigmoid')(x)\n",
    "    return keras.Model(inputs=model_input, outputs=model_output)\n",
    "\n",
    "# Train your deep learning model\n",
    "model = getModel(image_size=target, num_classes=1)\n",
    "# ... (train the model using your training data)\n",
    "\n",
    "# Freeze the deep learning model\n",
    "for layer in model.layers:\n",
    "    layer.trainable = False\n",
    "\n",
    "# Extract features from the deep learning model\n",
    "feature_extractor = keras.Model(inputs=model.input, outputs=model.layers[-2].output)\n",
    "train_features = feature_extractor.predict(train_data)\n",
    "val_features = feature_extractor.predict(val_data)\n",
    "\n",
    "# Train the SVM\n",
    "svm = SVC()\n",
    "svm.fit(train_features, train_labels)\n",
    "\n",
    "# Evaluate the SVM\n",
    "accuracy = svm.score(val_features, val_labels)\n",
    "print(f\"SVM accuracy: {accuracy:.4f}\")"
   ]
  }
 ],
 "metadata": {
  "kernelspec": {
   "display_name": "Python 3.9 (tensorflow)",
   "language": "python",
   "name": "majorproject"
  },
  "language_info": {
   "codemirror_mode": {
    "name": "ipython",
    "version": 3
   },
   "file_extension": ".py",
   "mimetype": "text/x-python",
   "name": "python",
   "nbconvert_exporter": "python",
   "pygments_lexer": "ipython3",
   "version": "3.9.17"
  }
 },
 "nbformat": 4,
 "nbformat_minor": 5
}
